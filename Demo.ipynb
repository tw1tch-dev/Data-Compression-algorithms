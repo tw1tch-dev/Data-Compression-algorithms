{
 "cells": [
  {
   "attachments": {},
   "cell_type": "markdown",
   "id": "e376170c",
   "metadata": {},
   "source": [
    "# Demo"
   ]
  },
  {
   "cell_type": "code",
   "execution_count": 1,
   "id": "4c46f83b",
   "metadata": {},
   "outputs": [],
   "source": [
    "from compression import LZW\n",
    "from compression import Metrics\n",
    "from compression import RLE\n",
    "from compression import Huffman\n",
    "from compression import Golomb\n",
    "from compression import Arithmetic"
   ]
  },
  {
   "attachments": {},
   "cell_type": "markdown",
   "id": "b9688ca0",
   "metadata": {},
   "source": [
    "## LZW"
   ]
  },
  {
   "cell_type": "code",
   "execution_count": 2,
   "id": "9112a148",
   "metadata": {},
   "outputs": [
    {
     "name": "stdout",
     "output_type": "stream",
     "text": [
      "[97, 98, 98, 102, 99, 115, 100, 102, 100, 136, 102, 97, 134, 97, 138, 138]\n"
     ]
    }
   ],
   "source": [
    "file = \"abbfcsdfdddfadfafafa\"\n",
    "lzw = LZW()\n",
    "encoded_file = lzw.LZW_encoder(file)\n",
    "print(encoded_file)"
   ]
  },
  {
   "cell_type": "code",
   "execution_count": 3,
   "id": "ace132ac",
   "metadata": {},
   "outputs": [
    {
     "data": {
      "text/plain": [
       "'abbfcsdfdddfadfafafa'"
      ]
     },
     "execution_count": 3,
     "metadata": {},
     "output_type": "execute_result"
    }
   ],
   "source": [
    "lzw.LZW_decoder(encoded_file)"
   ]
  },
  {
   "cell_type": "code",
   "execution_count": 4,
   "id": "177fc0cd",
   "metadata": {},
   "outputs": [
    {
     "name": "stdout",
     "output_type": "stream",
     "text": [
      "['01100001', '01100010', '01100010', '01100110', '01100011', '01110011', '01100100', '01100110', '01100100', '10001000', '01100110', '01100001', '10000110', '01100001', '10001010', '10001010']\n"
     ]
    }
   ],
   "source": [
    "bins = Metrics.binarify(encoded_file)\n",
    "print(bins)"
   ]
  },
  {
   "cell_type": "code",
   "execution_count": 5,
   "id": "b22b0974",
   "metadata": {},
   "outputs": [],
   "source": [
    "l_avg = Metrics.Avg_length(bins, [1/len(bins)]*len(bins))"
   ]
  },
  {
   "cell_type": "code",
   "execution_count": 6,
   "id": "d3f26f00",
   "metadata": {},
   "outputs": [
    {
     "name": "stdout",
     "output_type": "stream",
     "text": [
      "8.0\n"
     ]
    }
   ],
   "source": [
    "print(l_avg)"
   ]
  },
  {
   "cell_type": "code",
   "execution_count": 7,
   "id": "83d360f0",
   "metadata": {},
   "outputs": [],
   "source": [
    "H,d= Metrics.entropy(file)"
   ]
  },
  {
   "cell_type": "code",
   "execution_count": 8,
   "id": "a4cb7462",
   "metadata": {},
   "outputs": [
    {
     "name": "stdout",
     "output_type": "stream",
     "text": [
      "2.2854752972273342\n"
     ]
    }
   ],
   "source": [
    "print(H)"
   ]
  },
  {
   "cell_type": "code",
   "execution_count": 9,
   "id": "d0a8f812",
   "metadata": {},
   "outputs": [
    {
     "name": "stdout",
     "output_type": "stream",
     "text": [
      "{'a': 0.25, 'b': 0.1, 'f': 0.3, 'c': 0.05, 's': 0.05, 'd': 0.25}\n"
     ]
    }
   ],
   "source": [
    "print(d)"
   ]
  },
  {
   "cell_type": "code",
   "execution_count": 10,
   "id": "b7272247",
   "metadata": {},
   "outputs": [],
   "source": [
    "before,after = Metrics.No_bits(file,bits_array=bins)"
   ]
  },
  {
   "cell_type": "code",
   "execution_count": 11,
   "id": "cb9137e7",
   "metadata": {},
   "outputs": [
    {
     "name": "stdout",
     "output_type": "stream",
     "text": [
      "1.25\n",
      "(5, 4)\n"
     ]
    }
   ],
   "source": [
    "# compression ratio\n",
    "print(before/after)\n",
    "print((before/after).as_integer_ratio())"
   ]
  },
  {
   "cell_type": "code",
   "execution_count": 12,
   "id": "35ae1e22",
   "metadata": {},
   "outputs": [
    {
     "data": {
      "text/plain": [
       "28.56844121534168"
      ]
     },
     "execution_count": 12,
     "metadata": {},
     "output_type": "execute_result"
    }
   ],
   "source": [
    "# effiecency\n",
    "(H/l_avg)*100"
   ]
  },
  {
   "attachments": {},
   "cell_type": "markdown",
   "id": "37ea796f",
   "metadata": {},
   "source": [
    "## RLE"
   ]
  },
  {
   "cell_type": "code",
   "execution_count": 13,
   "id": "2fab8def",
   "metadata": {},
   "outputs": [],
   "source": [
    "rle = RLE()"
   ]
  },
  {
   "cell_type": "code",
   "execution_count": 14,
   "id": "9e16a270",
   "metadata": {},
   "outputs": [],
   "source": [
    "file         = \"aaabbcab\"\n",
    "encoded_file = rle.run_length_encoding(file)"
   ]
  },
  {
   "cell_type": "code",
   "execution_count": 15,
   "id": "7cb82054",
   "metadata": {},
   "outputs": [
    {
     "name": "stdout",
     "output_type": "stream",
     "text": [
      "a3b2c1a1b1\n"
     ]
    }
   ],
   "source": [
    "print(encoded_file)"
   ]
  },
  {
   "cell_type": "code",
   "execution_count": 16,
   "id": "08a6857d",
   "metadata": {},
   "outputs": [],
   "source": [
    "before,after = Metrics.No_bits(file,encoded_file)"
   ]
  },
  {
   "cell_type": "code",
   "execution_count": 17,
   "id": "41e2f837",
   "metadata": {},
   "outputs": [
    {
     "name": "stdout",
     "output_type": "stream",
     "text": [
      "1.28\n",
      "(5764607523034235, 4503599627370496)\n"
     ]
    }
   ],
   "source": [
    "# compression ratio\n",
    "print(before/after)\n",
    "print((before /after).as_integer_ratio())"
   ]
  },
  {
   "cell_type": "code",
   "execution_count": 18,
   "id": "8cd30925",
   "metadata": {},
   "outputs": [],
   "source": [
    "H,d= Metrics.entropy(file)"
   ]
  },
  {
   "cell_type": "code",
   "execution_count": 19,
   "id": "9e68a180",
   "metadata": {},
   "outputs": [
    {
     "name": "stdout",
     "output_type": "stream",
     "text": [
      "1.4056390622295662\n"
     ]
    }
   ],
   "source": [
    "print(H)"
   ]
  },
  {
   "cell_type": "code",
   "execution_count": 20,
   "id": "7f7d696e",
   "metadata": {},
   "outputs": [
    {
     "name": "stdout",
     "output_type": "stream",
     "text": [
      "{'a': 0.5, 'b': 0.375, 'c': 0.125}\n"
     ]
    }
   ],
   "source": [
    "print(d)"
   ]
  },
  {
   "attachments": {},
   "cell_type": "markdown",
   "id": "617d50fb",
   "metadata": {},
   "source": [
    "## Huffman\n"
   ]
  },
  {
   "cell_type": "code",
   "execution_count": 21,
   "id": "478dd759",
   "metadata": {},
   "outputs": [],
   "source": [
    "huffman = Huffman()"
   ]
  },
  {
   "cell_type": "code",
   "execution_count": 22,
   "id": "053e4719",
   "metadata": {},
   "outputs": [
    {
     "name": "stdout",
     "output_type": "stream",
     "text": [
      "Encoded: 11111011010010101000111101011110010110010001100010111011110101110011001001100111011001000010000110011000\n",
      "d {' ': '000', 's': '001', 'l': '010', 'e': '011', 't': '1000', 'n': '10010', 'i': '10011', 'o': '101', 'c': '11000', 'd': '11001', 'p': '11010', 'm': '11011', 'r': '1110', 'w': '11110', 'h': '11111'}\n",
      "2.1538461538461537\n",
      "Decoded: hello world compression test\n",
      "Original matches decoded: True\n"
     ]
    }
   ],
   "source": [
    "text = \"hello world compression test\"\n",
    "encoded,d = huffman.encode(text)\n",
    "print(\"Encoded:\", encoded)\n",
    "print(\"d\",d)\n",
    "print(huffman.compressionRatio(text,encoded))\n",
    "\n",
    "root = huffman.build_tree(text)\n",
    "decoded = huffman.decode(encoded, root)\n",
    "print(\"Decoded:\", decoded)\n",
    "\n",
    "print(\"Original matches decoded:\", text == decoded)\n"
   ]
  },
  {
   "cell_type": "code",
   "execution_count": 23,
   "id": "799dac76",
   "metadata": {},
   "outputs": [
    {
     "data": {
      "text/plain": [
       "(3.699513850319966,\n",
       " {'h': 0.03571428571428571,\n",
       "  'e': 0.10714285714285714,\n",
       "  'l': 0.10714285714285714,\n",
       "  'o': 0.14285714285714285,\n",
       "  ' ': 0.10714285714285714,\n",
       "  'w': 0.03571428571428571,\n",
       "  'r': 0.07142857142857142,\n",
       "  'd': 0.03571428571428571,\n",
       "  'c': 0.03571428571428571,\n",
       "  'm': 0.03571428571428571,\n",
       "  'p': 0.03571428571428571,\n",
       "  's': 0.10714285714285714,\n",
       "  'i': 0.03571428571428571,\n",
       "  'n': 0.03571428571428571,\n",
       "  't': 0.07142857142857142})"
      ]
     },
     "execution_count": 23,
     "metadata": {},
     "output_type": "execute_result"
    }
   ],
   "source": [
    "Metrics.entropy(text)"
   ]
  },
  {
   "cell_type": "code",
   "execution_count": 24,
   "id": "97ff57c8",
   "metadata": {},
   "outputs": [],
   "source": [
    "#Metrics.Avg_length()"
   ]
  },
  {
   "attachments": {},
   "cell_type": "markdown",
   "id": "f01b8ff1",
   "metadata": {},
   "source": [
    "# Golomb"
   ]
  },
  {
   "cell_type": "code",
   "execution_count": 25,
   "id": "1e820735",
   "metadata": {},
   "outputs": [],
   "source": [
    "file = [2,5,1500,3,3,2]"
   ]
  },
  {
   "cell_type": "code",
   "execution_count": 26,
   "id": "f2444a11",
   "metadata": {},
   "outputs": [
    {
     "name": "stdout",
     "output_type": "stream",
     "text": [
      "['0000000010', '0000000101', '101000001100', '0000000011', '0000000011', '0000000010']\n"
     ]
    }
   ],
   "source": [
    "encoded_file = []\n",
    "m = 1000\n",
    "for integer in file:\n",
    "    encoded_file.append(Golomb.golomb_encode(integer,m))\n",
    "print(encoded_file)"
   ]
  },
  {
   "cell_type": "code",
   "execution_count": 27,
   "id": "42244a9d",
   "metadata": {},
   "outputs": [
    {
     "name": "stdout",
     "output_type": "stream",
     "text": [
      "2\n"
     ]
    }
   ],
   "source": [
    "decoded_value = Golomb.golomb_decode(encoded_file[0], m)\n",
    "print(decoded_value)"
   ]
  },
  {
   "cell_type": "code",
   "execution_count": 28,
   "id": "c49cd27c",
   "metadata": {},
   "outputs": [
    {
     "name": "stdout",
     "output_type": "stream",
     "text": [
      "['00000000010', '00000000101', '10111011100', '00000000011', '00000000011', '00000000010']\n"
     ]
    }
   ],
   "source": [
    "bins = Metrics.binarify(file)\n",
    "print(bins)"
   ]
  },
  {
   "cell_type": "code",
   "execution_count": 29,
   "id": "c2ec739c",
   "metadata": {},
   "outputs": [],
   "source": [
    "before  = len(bins) * len(bins[0])\n",
    "_,after = Metrics.No_bits(\"\",bits_array=encoded_file)"
   ]
  },
  {
   "cell_type": "code",
   "execution_count": 30,
   "id": "fde4c4f7",
   "metadata": {},
   "outputs": [
    {
     "name": "stdout",
     "output_type": "stream",
     "text": [
      "1.064516129032258\n",
      "(599269305254945, 562949953421312)\n"
     ]
    }
   ],
   "source": [
    "# compression ratio\n",
    "print(before/after)\n",
    "print((before /after).as_integer_ratio())"
   ]
  },
  {
   "cell_type": "code",
   "execution_count": 31,
   "id": "e66a2d51",
   "metadata": {},
   "outputs": [
    {
     "data": {
      "text/plain": [
       "(66, 62)"
      ]
     },
     "execution_count": 31,
     "metadata": {},
     "output_type": "execute_result"
    }
   ],
   "source": [
    "before,after"
   ]
  },
  {
   "cell_type": "code",
   "execution_count": 32,
   "id": "8436dd4a",
   "metadata": {},
   "outputs": [],
   "source": [
    "#l_avg = Metrics.Avg_length(encoded_file, [1/len(encoded_file)]*len(encoded_file))"
   ]
  },
  {
   "cell_type": "code",
   "execution_count": 33,
   "id": "2ca3fed6",
   "metadata": {},
   "outputs": [],
   "source": [
    "#print(l_avg)"
   ]
  },
  {
   "attachments": {},
   "cell_type": "markdown",
   "id": "6fcb4c3d",
   "metadata": {},
   "source": [
    "# Arithmetic"
   ]
  },
  {
   "cell_type": "code",
   "execution_count": 34,
   "id": "3715f39c",
   "metadata": {},
   "outputs": [],
   "source": [
    "file = \"aabbddaabcc\""
   ]
  },
  {
   "cell_type": "code",
   "execution_count": 35,
   "id": "4202ee79",
   "metadata": {},
   "outputs": [],
   "source": [
    "H,table = Metrics.entropy(file)"
   ]
  },
  {
   "cell_type": "code",
   "execution_count": 36,
   "id": "2b9d430d",
   "metadata": {},
   "outputs": [
    {
     "data": {
      "text/plain": [
       "{'a': 0.36363636363636365,\n",
       " 'b': 0.2727272727272727,\n",
       " 'd': 0.18181818181818182,\n",
       " 'c': 0.18181818181818182}"
      ]
     },
     "execution_count": 36,
     "metadata": {},
     "output_type": "execute_result"
    }
   ],
   "source": [
    "table"
   ]
  },
  {
   "cell_type": "code",
   "execution_count": 37,
   "id": "c0b76637",
   "metadata": {},
   "outputs": [
    {
     "name": "stdout",
     "output_type": "stream",
     "text": [
      "Encoded value: 0.222389181066867\n"
     ]
    }
   ],
   "source": [
    "symbols = table.keys()\n",
    "\n",
    "# Get probabilities from user input\n",
    "probabilities = table.values()\n",
    "\n",
    "# Get sequence from user input\n",
    "sequence = \"abc\"\n",
    "\n",
    "# Encode the sequence\n",
    "encoded_value = Arithmetic.encode_sequence(sequence, symbols, probabilities)\n",
    "\n",
    "# Output the encoded value\n",
    "print(\"Encoded value:\", encoded_value)"
   ]
  }
 ],
 "metadata": {
  "kernelspec": {
   "display_name": "Python 3",
   "language": "python",
   "name": "python3"
  },
  "language_info": {
   "codemirror_mode": {
    "name": "ipython",
    "version": 3
   },
   "file_extension": ".py",
   "mimetype": "text/x-python",
   "name": "python",
   "nbconvert_exporter": "python",
   "pygments_lexer": "ipython3",
   "version": "3.8.8"
  }
 },
 "nbformat": 4,
 "nbformat_minor": 5
}
